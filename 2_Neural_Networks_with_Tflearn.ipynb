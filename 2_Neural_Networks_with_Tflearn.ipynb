{
 "cells": [
  {
   "cell_type": "markdown",
   "metadata": {},
   "source": [
    "# Additional TensorFlow Features"
   ]
  },
  {
   "cell_type": "markdown",
   "metadata": {},
   "source": [
    "## Table of Contents\n",
    "\n",
    "1. TensorFlow - A Suite of Softwares\n",
    "2. TFLearn - A high level machine learning library\n",
    "3. Build Linear regression using TFLearn on Height and Weight dataset\n",
    "4. TensorBoard - A data and model visualization"
   ]
  },
  {
   "cell_type": "markdown",
   "metadata": {},
   "source": [
    "## 1. TensorFlow - A Suite of Softwares"
   ]
  },
  {
   "cell_type": "markdown",
   "metadata": {},
   "source": [
    "Tensorflow is a much more evolved library than just a machine learning library. It provides the complete package for training and maintaining a machine learning model, from data ingestion itself.\n",
    "\n",
    "It provides the following features necessary for building a machine learning model from ground up:\n",
    "* **TFRecords** - for reading and ingesting data\n",
    "* **TF.layers** - provides components of neural network for creating custom neural networks\n",
    "* **TFLearn** - A third party library built on tensorflow for creating machine learning models\n",
    "* **TF.contrib.keras** - another high level library for building neural networks\n",
    "* **Tensorboard** - for data and model visualization\n",
    "* **TFDebug** - for debugging tensorflow models\n",
    "* **TFServe** - for deploying machine learning models built upon tensorflow\n",
    "\n",
    "We will take a look at some of the important features that are useful tools to keep in our workflow"
   ]
  },
  {
   "cell_type": "markdown",
   "metadata": {
    "collapsed": true
   },
   "source": [
    "## 2. TFLearn - A high level deep learning library\n",
    "\n",
    "TFLearn is actually a third party library. It was designed to provide a higher-level API to TensorFlow in order to facilitate and speed-up experimentations, while remaining fully transparent and compatible with it.\n",
    "\n",
    "![](images/image_4.png)\n",
    "\n",
    "TFLearn features include:\n",
    "\n",
    "* Easy-to-use and understand high-level API for implementing deep neural networks, with tutorial and examples.\n",
    "* Fast prototyping through highly modular built-in neural network layers, regularizers, optimizers, metrics...\n",
    "* Full transparency over Tensorflow. All functions are built over tensors and can be used independently of TFLearn.\n",
    "* Powerful helper functions to train any TensorFlow graph, with support of multiple inputs, outputs and optimizers.\n",
    "* Easy and beautiful graph visualization, with details about weights, gradients, activations and more...\n",
    "* Effortless device placement for using multiple CPU/GPU.\n",
    "\n",
    "\n",
    "To get a taste of TFLearn, let us apply it on a dataset. "
   ]
  },
  {
   "cell_type": "markdown",
   "metadata": {},
   "source": [
    "## 3. Build Linear regression using TFlearn on Height and Weight dataset"
   ]
  },
  {
   "cell_type": "code",
   "execution_count": 1,
   "metadata": {},
   "outputs": [
    {
     "name": "stdout",
     "output_type": "stream",
     "text": [
      "Populating the interactive namespace from numpy and matplotlib\n",
      "curses is not supported on this machine (please install/reinstall curses for an optimal experience)\n"
     ]
    }
   ],
   "source": [
    "# import libraries\n",
    "% pylab inline\n",
    "import tensorflow as tf\n",
    "import tflearn\n",
    "import pandas as pd"
   ]
  },
  {
   "cell_type": "code",
   "execution_count": 2,
   "metadata": {},
   "outputs": [
    {
     "data": {
      "text/html": [
       "<div>\n",
       "<style>\n",
       "    .dataframe thead tr:only-child th {\n",
       "        text-align: right;\n",
       "    }\n",
       "\n",
       "    .dataframe thead th {\n",
       "        text-align: left;\n",
       "    }\n",
       "\n",
       "    .dataframe tbody tr th {\n",
       "        vertical-align: top;\n",
       "    }\n",
       "</style>\n",
       "<table border=\"1\" class=\"dataframe\">\n",
       "  <thead>\n",
       "    <tr style=\"text-align: right;\">\n",
       "      <th></th>\n",
       "      <th>height</th>\n",
       "      <th>weight</th>\n",
       "    </tr>\n",
       "  </thead>\n",
       "  <tbody>\n",
       "    <tr>\n",
       "      <th>0</th>\n",
       "      <td>182</td>\n",
       "      <td>77</td>\n",
       "    </tr>\n",
       "    <tr>\n",
       "      <th>1</th>\n",
       "      <td>161</td>\n",
       "      <td>58</td>\n",
       "    </tr>\n",
       "    <tr>\n",
       "      <th>2</th>\n",
       "      <td>161</td>\n",
       "      <td>53</td>\n",
       "    </tr>\n",
       "    <tr>\n",
       "      <th>3</th>\n",
       "      <td>177</td>\n",
       "      <td>68</td>\n",
       "    </tr>\n",
       "    <tr>\n",
       "      <th>4</th>\n",
       "      <td>157</td>\n",
       "      <td>59</td>\n",
       "    </tr>\n",
       "  </tbody>\n",
       "</table>\n",
       "</div>"
      ],
      "text/plain": [
       "   height  weight\n",
       "0     182      77\n",
       "1     161      58\n",
       "2     161      53\n",
       "3     177      68\n",
       "4     157      59"
      ]
     },
     "execution_count": 2,
     "metadata": {},
     "output_type": "execute_result"
    }
   ],
   "source": [
    "# load data\n",
    "data = pd.read_csv('datasets/height_n_weight/height_n_weight.csv')\n",
    "\n",
    "# show top data fields\n",
    "data.head()"
   ]
  },
  {
   "cell_type": "code",
   "execution_count": 3,
   "metadata": {},
   "outputs": [
    {
     "name": "stdout",
     "output_type": "stream",
     "text": [
      "Shape of data: (199, 2)\n",
      "Number of records: 199\n"
     ]
    }
   ],
   "source": [
    "# define dependent and independent variables\n",
    "train_x = data.height.values.ravel()\n",
    "train_y = data.weight.values.ravel()\n",
    "\n",
    "num_records = data.shape[0]\n",
    "\n",
    "print(\"Shape of data: \"+str(data.shape))\n",
    "print(\"Number of records: \"+str(num_records))"
   ]
  },
  {
   "cell_type": "code",
   "execution_count": 4,
   "metadata": {
    "collapsed": true
   },
   "outputs": [],
   "source": [
    "# create model\n",
    "input_data = tflearn.input_data(shape=[None])\n",
    "linear = tflearn.single_unit(input_data)\n",
    "\n",
    "lin_reg = tflearn.regression(linear, optimizer='sgd', loss='mean_square', learning_rate=0.01)\n",
    "\n",
    "model = tflearn.DNN(lin_reg)"
   ]
  },
  {
   "cell_type": "code",
   "execution_count": 5,
   "metadata": {},
   "outputs": [
    {
     "name": "stdout",
     "output_type": "stream",
     "text": [
      "Training Step: 399  | total loss: \u001b[1m\u001b[32m138.43910\u001b[0m\u001b[0m | time: 0.004s\n",
      "| SGD | epoch: 100 | loss: 138.43910 -- iter: 192/199\n",
      "Training Step: 400  | total loss: \u001b[1m\u001b[32m143.98834\u001b[0m\u001b[0m | time: 0.006s\n",
      "| SGD | epoch: 100 | loss: 143.98834 -- iter: 199/199\n",
      "--\n"
     ]
    }
   ],
   "source": [
    "# train model\n",
    "model.fit(train_x, train_y, n_epoch=100)"
   ]
  },
  {
   "cell_type": "code",
   "execution_count": 6,
   "metadata": {},
   "outputs": [
    {
     "data": {
      "image/png": "[encoded data removed]",
      "text/plain": [
       "<matplotlib.figure.Figure at 0x10d66e48>"
      ]
     },
     "metadata": {},
     "output_type": "display_data"
    }
   ],
   "source": [
    "# display graph\n",
    "plt.plot(train_x, train_y, 'bo')\n",
    "plt.plot(train_x, model.get_weights(linear.W) * train_x + model.get_weights(linear.b), 'r')\n",
    "plt.show()"
   ]
  },
  {
   "cell_type": "markdown",
   "metadata": {},
   "source": [
    "## 4. TensorBoard - A data and model visualization"
   ]
  },
  {
   "cell_type": "markdown",
   "metadata": {},
   "source": [
    "TensorBoard is a suite of web applications for inspecting and understanding your TensorFlow runs and graphs. The computations you'll use TensorFlow for - like training a massive deep neural network - can be complex and confusing. To make it easier to understand, debug, and optimize TensorFlow programs, we've included a suite of visualization tools called TensorBoard. You can use TensorBoard to visualize your TensorFlow graph, plot quantitative metrics about the execution of your graph, and show additional data like images that pass through it. "
   ]
  },
  {
   "cell_type": "markdown",
   "metadata": {},
   "source": [
    "Let us see an example of using TensorBoard"
   ]
  },
  {
   "cell_type": "markdown",
   "metadata": {},
   "source": [
    "We wrote a code previously for adding two numbers. Let us visualize how the computational graph looks like"
   ]
  },
  {
   "cell_type": "code",
   "execution_count": 7,
   "metadata": {
    "collapsed": true
   },
   "outputs": [],
   "source": [
    "# import tensorflow\n",
    "import tensorflow as tf\n",
    "tf.reset_default_graph()"
   ]
  },
  {
   "cell_type": "code",
   "execution_count": 8,
   "metadata": {
    "collapsed": true
   },
   "outputs": [],
   "source": [
    "# build computational graph\n",
    "num1 = tf.constant(2, dtype=tf.int16, name='num1')\n",
    "num2 = tf.constant(3, dtype=tf.int16, name='num2')\n",
    "\n",
    "addition = tf.add(num1, num2)"
   ]
  },
  {
   "cell_type": "code",
   "execution_count": 9,
   "metadata": {
    "collapsed": true
   },
   "outputs": [],
   "source": [
    "# initialize variables\n",
    "init = tf.global_variables_initializer()"
   ]
  },
  {
   "cell_type": "code",
   "execution_count": 10,
   "metadata": {},
   "outputs": [
    {
     "name": "stdout",
     "output_type": "stream",
     "text": [
      "Addition of 2 and 3 is 5\n"
     ]
    }
   ],
   "source": [
    "# create session and run the graph\n",
    "with tf.Session() as sess:\n",
    "    sess.run(init)\n",
    "    # write summary of graph on tensorboard\n",
    "    writer = tf.summary.FileWriter(\"./outputs/tensorflow_logs\",sess.graph)\n",
    "    print(\"Addition of 2 and 3 is %i\" % sess.run(addition))"
   ]
  },
  {
   "cell_type": "code",
   "execution_count": 11,
   "metadata": {
    "collapsed": true
   },
   "outputs": [],
   "source": [
    "# close\n",
    "writer.close()\n",
    "sess.close()"
   ]
  },
  {
   "cell_type": "markdown",
   "metadata": {},
   "source": [
    "Go to cmd prompt and type\n",
    "* tensorboard --logdir='path/output/tensorflow_logs'\n",
    "\n",
    "TensorBoard 0.4.0rc3 at http://<computer name>:6006 (Press CTRL+C to quit)\n",
    "\n",
    "Type http://<computer name>:6006 link to your internet browser, it will direct you to tensorboard\n",
    "![](images/tensorboard_graph.png)"
   ]
  },
  {
   "cell_type": "markdown",
   "metadata": {},
   "source": [
    "### Exercise 1:"
   ]
  },
  {
   "cell_type": "markdown",
   "metadata": {},
   "source": [
    "Visualize the graph for exercise 2 of module 1"
   ]
  },
  {
   "cell_type": "code",
   "execution_count": 12,
   "metadata": {
    "scrolled": true
   },
   "outputs": [
    {
     "name": "stdout",
     "output_type": "stream",
     "text": [
      "Result is: [[1 2 3]\n",
      " [4 5 6]\n",
      " [7 8 9]]\n"
     ]
    }
   ],
   "source": [
    "# Visualize the graph \n",
    "a = tf.Variable([[1, 0, 0], [0, 1, 0], [0, 0, 1]])\n",
    "b = tf.placeholder(tf.int32, shape = (3, 3))\n",
    "\n",
    "c = tf.matmul(a, b)\n",
    "\n",
    "init = tf.global_variables_initializer(); # already run above\n",
    "\n",
    "with tf.Session() as sess:\n",
    "    sess.run(init)\n",
    "    # write summary of graph on tensorboard\n",
    "    writer = tf.summary.FileWriter(\"./outputs/tensorflow_logs\",sess.graph)\n",
    "    print(\"Result is: \"+str(sess.run(c, feed_dict={b: [[1, 2, 3], [4, 5, 6], [7, 8, 9]]})))\n",
    "\n",
    "writer.close()\n",
    "sess.close()"
   ]
  },
  {
   "cell_type": "markdown",
   "metadata": {},
   "source": [
    "##### Output graph\n",
    "![](images/graph_Ex1.png)"
   ]
  },
  {
   "cell_type": "markdown",
   "metadata": {},
   "source": [
    "## Bonus: TFLearn with TensorBoard"
   ]
  },
  {
   "cell_type": "code",
   "execution_count": 13,
   "metadata": {
    "collapsed": true
   },
   "outputs": [],
   "source": [
    "tf.reset_default_graph()"
   ]
  },
  {
   "cell_type": "code",
   "execution_count": 14,
   "metadata": {
    "collapsed": true
   },
   "outputs": [],
   "source": [
    "# create model\n",
    "input_data = tflearn.input_data(shape=[None])\n",
    "linear = tflearn.single_unit(input_data)\n",
    "\n",
    "lin_reg = tflearn.regression(linear, optimizer='sgd', loss='mean_square', learning_rate=0.01)\n",
    "\n",
    "model = tflearn.DNN(lin_reg)\n",
    "model = tflearn.DNN(lin_reg, tensorboard_verbose=3, tensorboard_dir='./outputs/tflearn')"
   ]
  },
  {
   "cell_type": "code",
   "execution_count": 15,
   "metadata": {},
   "outputs": [
    {
     "name": "stdout",
     "output_type": "stream",
     "text": [
      "Training Step: 399  | time: 0.007s\n",
      "| SGD | epoch: 100 | loss: 0.00000 -- iter: 192/199\n",
      "Training Step: 400  | time: 0.009s\n",
      "| SGD | epoch: 100 | loss: 0.00000 -- iter: 199/199\n",
      "--\n"
     ]
    }
   ],
   "source": [
    "# train model\n",
    "model.fit(train_x, train_y, n_epoch=100)"
   ]
  },
  {
   "cell_type": "code",
   "execution_count": null,
   "metadata": {
    "collapsed": true
   },
   "outputs": [],
   "source": []
  }
 ],
 "metadata": {
  "kernelspec": {
   "display_name": "Python 3",
   "language": "python",
   "name": "python3"
  },
  "language_info": {
   "codemirror_mode": {
    "name": "ipython",
    "version": 3
   },
   "file_extension": ".py",
   "mimetype": "text/x-python",
   "name": "python",
   "nbconvert_exporter": "python",
   "pygments_lexer": "ipython3",
   "version": "3.6.3"
  }
 },
 "nbformat": 4,
 "nbformat_minor": 2
}
