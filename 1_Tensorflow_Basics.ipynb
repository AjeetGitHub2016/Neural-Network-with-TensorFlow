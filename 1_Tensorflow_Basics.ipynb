{
 "cells": [
  {
   "cell_type": "markdown",
   "metadata": {},
   "source": [
    "# Getting started with TensorFlow"
   ]
  },
  {
   "cell_type": "markdown",
   "metadata": {},
   "source": [
    "## Table of Contents\n",
    "\n",
    "1. Introduction to TensorFlow\n",
    "2. But what is TensorFlow?\n",
    "3. Advantages of using TensorFlow\n",
    "4. Components of TensorFlow: Tensors and Graphs\n",
    "5. A typical work\"flow\" of tensorflow\n",
    "6. Basic operations - add two numbers in TensorFlow\n",
    "7. Exercise - 1\n",
    "8. Data Representation in TensorFlow\n",
    "10. Exercise - 2\n",
    "11. Build a linear regression model on Height vs Weight dataset \n"
   ]
  },
  {
   "cell_type": "markdown",
   "metadata": {},
   "source": [
    "## 1. Introduction to TensorFlow"
   ]
  },
  {
   "cell_type": "markdown",
   "metadata": {},
   "source": [
    "Lets start with the official definition,\n",
    "\n",
    "    “TensorFlow is an open source software library for numerical computation using dataflow graphs. Nodes in the graph represents mathematical operations, while graph edges represent multi-dimensional data arrays (aka tensors) communicated between them. The flexible architecture allows you to deploy computation to one or more CPUs or GPUs in a desktop, server, or mobile device with a single API.”\n",
    "    \n",
    "<img src=\"images/image_3.jpg\" style=\"width: 500px;\"/>"
   ]
  },
  {
   "cell_type": "markdown",
   "metadata": {},
   "source": [
    "## 2. But what is Tensorflow?"
   ]
  },
  {
   "cell_type": "markdown",
   "metadata": {},
   "source": [
    "If the above definition sounds a bit scary – don’t worry. \n",
    "\n",
    "Here is my simple definition – look at TensorFlow as nothing but numpy with a twist. If you have worked on numpy before, understanding TensorFlow will be a piece of cake! "
   ]
  },
  {
   "cell_type": "markdown",
   "metadata": {},
   "source": [
    "A major difference between numpy and TensorFlow is that TensorFlow follows a lazy programming paradigm. It first builds a graph of all the operation to be done, and then when a “session” is called, it “runs” the graph. It’s built to be scalable, by changing internal data representation to tensors (aka multi-dimensional arrays). Building a computational graph can be considered as the main ingredient of TensorFlow. To know more about mathematical constitution of a computational graph, [read this article](http://colah.github.io/posts/2015-08-Backprop/)."
   ]
  },
  {
   "cell_type": "markdown",
   "metadata": {},
   "source": [
    "## 3. Advantages of using TensorFlow"
   ]
  },
  {
   "cell_type": "markdown",
   "metadata": {},
   "source": [
    "The advantages of using TensorFlow are:\n",
    "\n",
    "* It has an intuitive construct, because as the name suggests it has “flow of tensors”. You can easily visualize each and every part of the graph.\n",
    "* Easily train on cpu/gpu for distributed computing\n",
    "* Platform flexibility. You can run the models wherever you want, whether it is on mobile, server or PC."
   ]
  },
  {
   "cell_type": "markdown",
   "metadata": {},
   "source": [
    "## 4. Components of TensorFlow: Tensors and Graphs"
   ]
  },
  {
   "cell_type": "markdown",
   "metadata": {},
   "source": [
    "In order to understand TensorFlow one needs to understand Tensors and Graphs. These are two basic things Google tried to incorporate in it’s Deep Learning framework.\n",
    "\n",
    "Let us first understand what Tensors are. \n",
    "\n",
    "<img src=\"images/image_2.png\" alt=\"Drawing\" style=\"width: 200px;\"/>\n",
    "\n",
    "As per the wiki definition of Tensors:\n",
    "\n",
    "    Tensors are geometric objects that describe linear relations between geometric vectors, scalars, and other tensors. Elementary examples of such relations include the dot product, the cross product, and linear maps. Geometric vectors, often used in physics and engineering applications, and scalars themselves are also tensors.\n",
    "\n",
    "As the definition goes, Tensors as Multidimensional Arrays which can be used to represent mathematical values.\n",
    "\n",
    "On th other hand, A computational graph is a series of TensorFlow operations arranged into a graph of nodes.\n",
    "\n",
    "![image 1](images/image_1.gif)\n",
    "\n",
    "Both of these concepts used together forms the bread and butter of TensorFlow"
   ]
  },
  {
   "cell_type": "markdown",
   "metadata": {},
   "source": [
    "## 5. A Typical Work\"flow\" of TensorFlow\n",
    "\n",
    "1. **Import tensorflow** along with all the necessary libraries\n",
    "2. **Build a computational graph** which contains the equations we will run in the graph\n",
    "3. **Initialize variables** in the graph\n",
    "4. **Create a session** for running the graph \n",
    "5. **Run the graph!**\n",
    "6. **Close session**"
   ]
  },
  {
   "cell_type": "markdown",
   "metadata": {},
   "source": [
    "## 6. Basic operations - add two numbers in TensorFlow"
   ]
  },
  {
   "cell_type": "markdown",
   "metadata": {},
   "source": [
    "**Question:** Add two numbers (2 and 3) and print the result"
   ]
  },
  {
   "cell_type": "code",
   "execution_count": 1,
   "metadata": {
    "collapsed": true
   },
   "outputs": [],
   "source": [
    "# import tensorflow\n",
    "import tensorflow as tf"
   ]
  },
  {
   "cell_type": "code",
   "execution_count": 2,
   "metadata": {
    "collapsed": true
   },
   "outputs": [],
   "source": [
    "# build computational graph\n",
    "num1 = tf.constant(2, dtype=tf.int16, name='num1')\n",
    "num2 = tf.constant(3, dtype=tf.int16, name='num2')\n",
    "\n",
    "addition = tf.add(num1, num2)"
   ]
  },
  {
   "cell_type": "code",
   "execution_count": 3,
   "metadata": {
    "collapsed": true
   },
   "outputs": [],
   "source": [
    "# initialize variables\n",
    "init = tf.global_variables_initializer()"
   ]
  },
  {
   "cell_type": "code",
   "execution_count": 4,
   "metadata": {},
   "outputs": [
    {
     "name": "stdout",
     "output_type": "stream",
     "text": [
      "Addition of 2 and 3 is 5\n"
     ]
    }
   ],
   "source": [
    "# create session and run the graph\n",
    "with tf.Session() as sess:\n",
    "    sess.run(init)\n",
    "    print(\"Addition of 2 and 3 is %i\" % sess.run(addition))"
   ]
  },
  {
   "cell_type": "code",
   "execution_count": 5,
   "metadata": {
    "collapsed": true
   },
   "outputs": [],
   "source": [
    "# close session\n",
    "sess.close()"
   ]
  },
  {
   "cell_type": "markdown",
   "metadata": {},
   "source": [
    "## 7. Exercise - 1"
   ]
  },
  {
   "cell_type": "markdown",
   "metadata": {},
   "source": [
    "Question: Multiply two numbers (2 and 10) and print the result"
   ]
  },
  {
   "cell_type": "code",
   "execution_count": 6,
   "metadata": {},
   "outputs": [
    {
     "name": "stdout",
     "output_type": "stream",
     "text": [
      "Multiplication of 2 and 10 is 20\n"
     ]
    }
   ],
   "source": [
    "# Multiply\n",
    "num1 = tf.constant(2, dtype=tf.int16, name='num1')\n",
    "num2 = tf.constant(10, dtype=tf.int16, name='num2')\n",
    "\n",
    "multiplication = tf.multiply(num1, num2)\n",
    "\n",
    "# initialize variable\n",
    "init = tf.global_variables_initializer()\n",
    "\n",
    "# run the graph\n",
    "with tf.Session() as sess:\n",
    "    sess.run(init)\n",
    "    print(\"Multiplication of 2 and 10 is \"+ str(sess.run(multiplication)))\n",
    "    \n",
    "# close Session\n",
    "sess.close()"
   ]
  },
  {
   "cell_type": "markdown",
   "metadata": {},
   "source": [
    "## 8. Data Representation in TensorFlow"
   ]
  },
  {
   "cell_type": "markdown",
   "metadata": {},
   "source": [
    "As we saw before, constants are predefined in the program and used in the graph as input. But what if we want to change the value of a constant? Practically, tensorflow does not allow you to change the value of a tensorflow contant once it is defined. It instead provides other data representation mechanism to input the required values.\n",
    "\n",
    "In tensorflow, we can represent data in three main formats:\n",
    "    \n",
    "1. **Constants** - Data values once set cannot be changed\n",
    "2. **Variables** - You can change the value of the data in the same session. \n",
    "3. **Placeholders** - You can give the value as an input at runtime\n",
    "\n",
    "Let's see by example, how variables and placeholders are used."
   ]
  },
  {
   "cell_type": "code",
   "execution_count": 7,
   "metadata": {},
   "outputs": [
    {
     "name": "stdout",
     "output_type": "stream",
     "text": [
      "Tensor(\"Mul_1:0\", shape=(), dtype=int32)\n"
     ]
    }
   ],
   "source": [
    "# build graph using variables\n",
    "var1 = tf.Variable(2, name=\"var1\") \n",
    "var2 = tf.Variable(3, name=\"var2\")\n",
    "\n",
    "mulv = tf.multiply(var1, var2)\n",
    "\n",
    "update = var1.assign(3)\n",
    "\n",
    "mulv2 = tf.multiply(var1, var2)\n",
    "\n",
    "print (mulv)"
   ]
  },
  {
   "cell_type": "code",
   "execution_count": 8,
   "metadata": {
    "collapsed": true
   },
   "outputs": [],
   "source": [
    "# initialize variables\n",
    "init = tf.global_variables_initializer()"
   ]
  },
  {
   "cell_type": "code",
   "execution_count": 9,
   "metadata": {},
   "outputs": [
    {
     "name": "stdout",
     "output_type": "stream",
     "text": [
      "The variable var1 is: 2\n",
      "The variable var2 is: 3\n",
      "The computational result is: 6\n",
      "The computational result after update is: 9\n"
     ]
    }
   ],
   "source": [
    "# create session and run the graph\n",
    "with tf.Session() as sess:\n",
    "    sess.run(init)\n",
    "    print (\"The variable var1 is:\", sess.run(var1))\n",
    "    print (\"The variable var2 is:\", sess.run(var2))\n",
    "    print (\"The computational result is:\", sess.run(mulv))\n",
    "    sess.run(update)\n",
    "    print (\"The computational result after update is:\", sess.run(mulv2))\n",
    "    \n",
    "# close session\n",
    "sess.close()"
   ]
  },
  {
   "cell_type": "markdown",
   "metadata": {},
   "source": [
    "Now lets see how we can use placeholders in our code"
   ]
  },
  {
   "cell_type": "code",
   "execution_count": 10,
   "metadata": {},
   "outputs": [
    {
     "name": "stdout",
     "output_type": "stream",
     "text": [
      "The calculation result is:\n",
      "[[ 3.  6.  9.]\n",
      " [ 2.  4.  6.]\n",
      " [ 1.  2.  3.]]\n"
     ]
    }
   ],
   "source": [
    "# build graph using placeholders\n",
    "pl = tf.placeholder(tf.float32, shape=(3, 1)) \n",
    "pi = tf.constant([[1., 2., 3.]]) \n",
    "c = tf.matmul(pl, pi)\n",
    " \n",
    "# initialize variables\n",
    "init = tf.global_variables_initializer()\n",
    "\n",
    "# create and run session\n",
    "with tf.Session() as sess:\n",
    "    sess.run(init)\n",
    "    # give value at runtime\n",
    "    print(\"The calculation result is:\")\n",
    "    print(sess.run(c, feed_dict={pl:[[3], [2], [1]]}))\n",
    "    \n",
    "# close session\n",
    "sess.close()"
   ]
  },
  {
   "cell_type": "markdown",
   "metadata": {},
   "source": [
    "## 9. Exercise - 2"
   ]
  },
  {
   "cell_type": "markdown",
   "metadata": {},
   "source": [
    "**Question 1**: Define 2 matrices\n",
    "\n",
    "a = [[1, 0, 0], [0, 1, 0], [0, 0, 1]]\n",
    "\n",
    "b = [[1, 2, 3], [4, 5, 6], [7, 8, 9]]\n",
    "\n",
    "where a will be defined beforehand and b will be given as input at runtime.\n",
    "\n",
    "Multiply a and b.\n",
    "\n",
    "**Question 2**: Update the value of a as \n",
    "\n",
    "a = [[0, 0, 1], [0, 1, 0], [1, 0, 0]]\n",
    "\n",
    "And then Multiply a and b."
   ]
  },
  {
   "cell_type": "code",
   "execution_count": 11,
   "metadata": {},
   "outputs": [
    {
     "name": "stdout",
     "output_type": "stream",
     "text": [
      "Result is: [[1 2 3]\n",
      " [4 5 6]\n",
      " [7 8 9]]\n"
     ]
    }
   ],
   "source": [
    "# Question 1\n",
    "a = tf.Variable([[1, 0, 0], [0, 1, 0], [0, 0, 1]])\n",
    "b = tf.placeholder(tf.int32, shape = (3, 3))\n",
    "\n",
    "c = tf.matmul(a, b)\n",
    "\n",
    "init = tf.global_variables_initializer()\n",
    "\n",
    "with tf.Session() as sess:\n",
    "    sess.run(init)\n",
    "    print(\"Result is: \"+str(sess.run(c, feed_dict={b: [[1, 2, 3], [4, 5, 6], [7, 8, 9]]})))"
   ]
  },
  {
   "cell_type": "code",
   "execution_count": 12,
   "metadata": {},
   "outputs": [
    {
     "name": "stdout",
     "output_type": "stream",
     "text": [
      "updated result is: [[7 8 9]\n",
      " [4 5 6]\n",
      " [1 2 3]]\n"
     ]
    }
   ],
   "source": [
    "# Question 2\n",
    "update = a.assign([[0, 0, 1], [0, 1, 0], [1, 0, 0]])\n",
    "\n",
    "with tf.Session() as sess:\n",
    "    # Not initinaialing because I have done this in Question 1\n",
    "    sess.run(update)\n",
    "    print(\"updated result is: \"+str(sess.run(c, feed_dict = {b: [[1, 2, 3], [4, 5, 6], [7, 8, 9]]})))\n",
    "\n",
    "sess.close()"
   ]
  },
  {
   "cell_type": "markdown",
   "metadata": {},
   "source": [
    "## 11. Build a linear regression model on Height vs Weight dataset "
   ]
  },
  {
   "cell_type": "markdown",
   "metadata": {},
   "source": [
    "Let us now see how we can build a regression model in TensorFlow"
   ]
  },
  {
   "cell_type": "code",
   "execution_count": 13,
   "metadata": {},
   "outputs": [
    {
     "name": "stdout",
     "output_type": "stream",
     "text": [
      "Populating the interactive namespace from numpy and matplotlib\n"
     ]
    },
    {
     "name": "stderr",
     "output_type": "stream",
     "text": [
      "C:\\Anaconda3\\lib\\site-packages\\IPython\\core\\magics\\pylab.py:160: UserWarning: pylab import has clobbered these variables: ['pi']\n",
      "`%matplotlib` prevents importing * from pylab and numpy\n",
      "  \"\\n`%matplotlib` prevents importing * from pylab and numpy\"\n"
     ]
    }
   ],
   "source": [
    "# import libraries\n",
    "% pylab inline\n",
    "import pandas as pd"
   ]
  },
  {
   "cell_type": "code",
   "execution_count": 14,
   "metadata": {
    "scrolled": true
   },
   "outputs": [],
   "source": [
    "# load data\n",
    "data = pd.read_csv('datasets/height_n_weight/height_n_weight.csv')"
   ]
  },
  {
   "cell_type": "code",
   "execution_count": 15,
   "metadata": {},
   "outputs": [
    {
     "data": {
      "text/html": [
       "<div>\n",
       "<style>\n",
       "    .dataframe thead tr:only-child th {\n",
       "        text-align: right;\n",
       "    }\n",
       "\n",
       "    .dataframe thead th {\n",
       "        text-align: left;\n",
       "    }\n",
       "\n",
       "    .dataframe tbody tr th {\n",
       "        vertical-align: top;\n",
       "    }\n",
       "</style>\n",
       "<table border=\"1\" class=\"dataframe\">\n",
       "  <thead>\n",
       "    <tr style=\"text-align: right;\">\n",
       "      <th></th>\n",
       "      <th>height</th>\n",
       "      <th>weight</th>\n",
       "    </tr>\n",
       "  </thead>\n",
       "  <tbody>\n",
       "    <tr>\n",
       "      <th>0</th>\n",
       "      <td>182</td>\n",
       "      <td>77</td>\n",
       "    </tr>\n",
       "    <tr>\n",
       "      <th>1</th>\n",
       "      <td>161</td>\n",
       "      <td>58</td>\n",
       "    </tr>\n",
       "    <tr>\n",
       "      <th>2</th>\n",
       "      <td>161</td>\n",
       "      <td>53</td>\n",
       "    </tr>\n",
       "    <tr>\n",
       "      <th>3</th>\n",
       "      <td>177</td>\n",
       "      <td>68</td>\n",
       "    </tr>\n",
       "    <tr>\n",
       "      <th>4</th>\n",
       "      <td>157</td>\n",
       "      <td>59</td>\n",
       "    </tr>\n",
       "  </tbody>\n",
       "</table>\n",
       "</div>"
      ],
      "text/plain": [
       "   height  weight\n",
       "0     182      77\n",
       "1     161      58\n",
       "2     161      53\n",
       "3     177      68\n",
       "4     157      59"
      ]
     },
     "execution_count": 15,
     "metadata": {},
     "output_type": "execute_result"
    }
   ],
   "source": [
    "# see how our data looks like\n",
    "data.head()"
   ]
  },
  {
   "cell_type": "code",
   "execution_count": 16,
   "metadata": {
    "collapsed": true
   },
   "outputs": [],
   "source": [
    "# define dependent and independent variables\n",
    "train_x = data.height.values.ravel()\n",
    "train_y = data.weight.values.ravel()\n",
    "\n",
    "num_records = data.shape[0]"
   ]
  },
  {
   "cell_type": "code",
   "execution_count": 17,
   "metadata": {
    "collapsed": true
   },
   "outputs": [],
   "source": [
    "## Build computational graph\n",
    "X = tf.placeholder(tf.float32)\n",
    "Y = tf.placeholder(tf.float32)\n",
    "\n",
    "# define weight and bias\n",
    "W = tf.Variable(tf.random_normal(shape=(1,)), name=\"weight\")\n",
    "b = tf.Variable(tf.random_normal(shape=(1,)), name=\"bias\")\n",
    "\n",
    "# define parameters\n",
    "learning_rate = 0.01\n",
    "epochs = 50\n",
    "display_step = 5"
   ]
  },
  {
   "cell_type": "code",
   "execution_count": 18,
   "metadata": {
    "collapsed": true
   },
   "outputs": [],
   "source": [
    "# Construct a linear model\n",
    "pred = tf.add(tf.multiply(X, W), b)"
   ]
  },
  {
   "cell_type": "code",
   "execution_count": 19,
   "metadata": {
    "collapsed": true
   },
   "outputs": [],
   "source": [
    "# define cost\n",
    "cost = tf.reduce_sum(tf.pow(pred-Y, 2))/(2*num_records)\n",
    "# define optimizer\n",
    "optimizer = tf.train.GradientDescentOptimizer(learning_rate).minimize(cost)"
   ]
  },
  {
   "cell_type": "code",
   "execution_count": 20,
   "metadata": {
    "collapsed": true
   },
   "outputs": [],
   "source": [
    "# initialize variables\n",
    "init = tf.global_variables_initializer()"
   ]
  },
  {
   "cell_type": "code",
   "execution_count": 21,
   "metadata": {},
   "outputs": [
    {
     "name": "stdout",
     "output_type": "stream",
     "text": [
      "Epoch: 5 cost = 62.91064\n",
      "Epoch: 10 cost = 62.90454\n",
      "Epoch: 15 cost = 62.89844\n",
      "Epoch: 20 cost = 62.89234\n",
      "Epoch: 25 cost = 62.88622\n",
      "Epoch: 30 cost = 62.88015\n",
      "Epoch: 35 cost = 62.87403\n",
      "Epoch: 40 cost = 62.86796\n",
      "Epoch: 45 cost = 62.86184\n",
      "Epoch: 50 cost = 62.85575\n",
      "\n",
      "Training finished!\n",
      "Cost after training =  62.8558 W =  [ 0.41094142] b =  [-1.58619022]\n"
     ]
    },
    {
     "data": {
      "image/png": "[encoded data removed]",
      "text/plain": [
       "<matplotlib.figure.Figure at 0xd8ff1d0>"
      ]
     },
     "metadata": {},
     "output_type": "display_data"
    }
   ],
   "source": [
    "# create session and run the model\n",
    "with tf.Session() as sess:\n",
    "    sess.run(init)\n",
    "    \n",
    "    # Fit all training data\n",
    "    for epoch in range(epochs):\n",
    "        # take batch input\n",
    "        for (x, y) in zip(train_x, train_y):\n",
    "            sess.run(optimizer, feed_dict={X: x, Y: y})\n",
    "\n",
    "        # Display performace after 5 epochs\n",
    "        if (epoch+1) % display_step == 0:\n",
    "            c = sess.run(cost, feed_dict={X: train_x, Y:train_y})\n",
    "            print(\"Epoch:\", '%d' % (epoch+1), \"cost =\", \"{:.5f}\".format(c))\n",
    "\n",
    "    print()\n",
    "    print(\"Training finished!\")\n",
    "    training_cost = sess.run(cost, feed_dict={X: train_x, Y: train_y})\n",
    "    print(\"Cost after training = \", training_cost, \"W = \", sess.run(W), \"b = \", sess.run(b))\n",
    "\n",
    "    # display graph\n",
    "    plt.plot(train_x, train_y, 'bo')\n",
    "    plt.plot(train_x, sess.run(W) * train_x + sess.run(b), 'r')\n",
    "    plt.show()"
   ]
  },
  {
   "cell_type": "markdown",
   "metadata": {},
   "source": [
    "## Thank you!"
   ]
  },
  {
   "cell_type": "code",
   "execution_count": null,
   "metadata": {
    "collapsed": true
   },
   "outputs": [],
   "source": []
  }
 ],
 "metadata": {
  "kernelspec": {
   "display_name": "Python 3",
   "language": "python",
   "name": "python3"
  },
  "language_info": {
   "codemirror_mode": {
    "name": "ipython",
    "version": 3
   },
   "file_extension": ".py",
   "mimetype": "text/x-python",
   "name": "python",
   "nbconvert_exporter": "python",
   "pygments_lexer": "ipython3",
   "version": "3.6.3"
  }
 },
 "nbformat": 4,
 "nbformat_minor": 2
}
