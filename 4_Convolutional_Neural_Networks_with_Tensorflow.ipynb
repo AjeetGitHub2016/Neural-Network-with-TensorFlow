{
 "cells": [
  {
   "cell_type": "markdown",
   "metadata": {},
   "source": [
    "# Solving Image Recognition problem with better Deep Learning architectures: CNN for Image Recognition"
   ]
  },
  {
   "cell_type": "code",
   "execution_count": 1,
   "metadata": {},
   "outputs": [
    {
     "name": "stdout",
     "output_type": "stream",
     "text": [
      "Populating the interactive namespace from numpy and matplotlib\n",
      "curses is not supported on this machine (please install/reinstall curses for an optimal experience)\n"
     ]
    }
   ],
   "source": [
    "# import modules\n",
    "%pylab inline\n",
    "import os\n",
    "import tflearn\n",
    "import numpy as np\n",
    "import pandas as pd\n",
    "import tensorflow as tf\n",
    "from scipy.misc import imread \n",
    "\n",
    "from tflearn.layers.estimator import regression\n",
    "from tflearn.layers.conv import conv_2d, max_pool_2d\n",
    "from tflearn.layers.core import input_data, dropout, fully_connected"
   ]
  },
  {
   "cell_type": "code",
   "execution_count": 2,
   "metadata": {
    "collapsed": true
   },
   "outputs": [],
   "source": [
    "## create dataset\n",
    "# give path of files\n",
    "data_dir = 'datasets\\mnist'\n",
    "\n",
    "# load dataset\n",
    "train = pd.read_csv(os.path.join(data_dir, 'Train', 'train.csv'))\n",
    "test = pd.read_csv(os.path.join(data_dir, 'Test.csv'))\n",
    "\n",
    "# load whole dataset \n",
    "temp = []\n",
    "for img_name in train.filename:\n",
    "    image_path = os.path.join(data_dir, 'Train', 'Images', 'train', img_name)\n",
    "    img = imread(image_path, mode='RGB')\n",
    "    img = img.astype('float32')\n",
    "    temp.append(img)\n",
    "    \n",
    "train_x = np.stack(temp)\n",
    "\n",
    "temp = []\n",
    "for img_name in test.filename:\n",
    "    image_path = os.path.join(data_dir, 'Train', 'Images', 'test', img_name)\n",
    "    img = imread(image_path, mode='RGB')\n",
    "    img = img.astype('float32')\n",
    "    temp.append(img)\n",
    "    \n",
    "test_x = np.stack(temp)"
   ]
  },
  {
   "cell_type": "code",
   "execution_count": 4,
   "metadata": {
    "collapsed": true
   },
   "outputs": [],
   "source": [
    "# create validation dataset\n",
    "split_size = int(train_x.shape[0]*0.7)\n",
    "\n",
    "train_x, val_x = train_x[:split_size, ...], train_x[split_size:, ...]\n",
    "train_y, val_y = train.label.values[:split_size], train.label.values[split_size:]"
   ]
  },
  {
   "cell_type": "code",
   "execution_count": 3,
   "metadata": {
    "collapsed": true
   },
   "outputs": [],
   "source": [
    "# helper functions\n",
    "def dense_to_one_hot(labels_dense, num_classes=10):\n",
    "    \"\"\"Convert class labels from scalars to one-hot vectors\"\"\"\n",
    "    num_labels = labels_dense.shape[0]\n",
    "    index_offset = np.arange(num_labels) * num_classes\n",
    "    labels_one_hot = np.zeros((num_labels, num_classes))\n",
    "    labels_one_hot.flat[index_offset + labels_dense.ravel()] = 1\n",
    "    \n",
    "    return labels_one_hot"
   ]
  },
  {
   "cell_type": "code",
   "execution_count": 5,
   "metadata": {
    "collapsed": true
   },
   "outputs": [],
   "source": [
    "# one hot encode outputs\n",
    "train_y = dense_to_one_hot(train_y)\n",
    "val_y = dense_to_one_hot(val_y)"
   ]
  },
  {
   "cell_type": "code",
   "execution_count": 6,
   "metadata": {
    "collapsed": true
   },
   "outputs": [],
   "source": [
    "tf.reset_default_graph()"
   ]
  },
  {
   "cell_type": "code",
   "execution_count": 7,
   "metadata": {
    "collapsed": true
   },
   "outputs": [],
   "source": [
    "# Building the model architecture\n",
    "# Input Layer\n",
    "model = input_data(shape=[None, 28, 28, 3])\n",
    "# First Convolution Layer\n",
    "model = conv_2d(model, 32, 5, activation='relu')\n",
    "# First Max Pooling\n",
    "model = max_pool_2d(model, 5)\n",
    "# Fully Connected Layer\n",
    "model = fully_connected(model, 10, activation='softmax')\n",
    "model = regression(model, optimizer='adam', loss='categorical_crossentropy',learning_rate=0.05)"
   ]
  },
  {
   "cell_type": "code",
   "execution_count": 8,
   "metadata": {},
   "outputs": [
    {
     "name": "stdout",
     "output_type": "stream",
     "text": [
      "Training Step: 535  | total loss: \u001b[1m\u001b[32m20.81042\u001b[0m\u001b[0m | time: 17.359s\n",
      "| Adam | epoch: 002 | loss: 20.81042 - acc: 0.0962 -- iter: 34176/34300\n",
      "Training Step: 536  | total loss: \u001b[1m\u001b[32m20.81610\u001b[0m\u001b[0m | time: 17.424s\n",
      "| Adam | epoch: 002 | loss: 20.81610 - acc: 0.0960 -- iter: 34300/34300\n",
      "--\n"
     ]
    }
   ],
   "source": [
    "model = tflearn.DNN(model)\n",
    "model.fit(train_x, train_y, n_epoch=2, batch_size=128, show_metric=True)"
   ]
  },
  {
   "cell_type": "code",
   "execution_count": 9,
   "metadata": {},
   "outputs": [
    {
     "data": {
      "text/plain": [
       "[0.10394557821101882]"
      ]
     },
     "execution_count": 9,
     "metadata": {},
     "output_type": "execute_result"
    }
   ],
   "source": [
    "model.evaluate(val_x, val_y)"
   ]
  },
  {
   "cell_type": "markdown",
   "metadata": {},
   "source": [
    "## Exercise 1"
   ]
  },
  {
   "cell_type": "markdown",
   "metadata": {},
   "source": [
    "Play with the hyperparameters and increase the validation accuracy"
   ]
  },
  {
   "cell_type": "code",
   "execution_count": 18,
   "metadata": {
    "collapsed": true
   },
   "outputs": [],
   "source": [
    "tf.reset_default_graph()"
   ]
  },
  {
   "cell_type": "code",
   "execution_count": 19,
   "metadata": {
    "collapsed": true
   },
   "outputs": [],
   "source": [
    "# Building the model architecture\n",
    "# Input Layer\n",
    "model = input_data(shape=[None, 28, 28, 3])\n",
    "# First Convolution Layer\n",
    "model = conv_2d(model, 32, 5, activation='relu')\n",
    "# First Max Pooling\n",
    "model = max_pool_2d(model, 5)\n",
    "# Fully Connected Layer\n",
    "model = fully_connected(model, 50, activation='relu')\n",
    "model = fully_connected(model, 10, activation='softmax')\n",
    "model = regression(model, optimizer='adam', loss='categorical_crossentropy',learning_rate=0.001)"
   ]
  },
  {
   "cell_type": "code",
   "execution_count": 20,
   "metadata": {},
   "outputs": [
    {
     "name": "stdout",
     "output_type": "stream",
     "text": [
      "Training Step: 5359  | total loss: \u001b[1m\u001b[32m0.64345\u001b[0m\u001b[0m | time: 17.809s\n",
      "| Adam | epoch: 020 | loss: 0.64345 - acc: 0.9672 -- iter: 34176/34300\n",
      "Training Step: 5360  | total loss: \u001b[1m\u001b[32m0.57913\u001b[0m\u001b[0m | time: 17.871s\n",
      "| Adam | epoch: 020 | loss: 0.57913 - acc: 0.9705 -- iter: 34300/34300\n",
      "--\n"
     ]
    }
   ],
   "source": [
    "model = tflearn.DNN(model)\n",
    "model.fit(train_x, train_y, n_epoch=20, batch_size=128, show_metric=True)"
   ]
  },
  {
   "cell_type": "code",
   "execution_count": 21,
   "metadata": {},
   "outputs": [
    {
     "data": {
      "text/plain": [
       "[0.97829931980898588]"
      ]
     },
     "execution_count": 21,
     "metadata": {},
     "output_type": "execute_result"
    }
   ],
   "source": [
    "model.evaluate(val_x, val_y)"
   ]
  },
  {
   "cell_type": "markdown",
   "metadata": {},
   "source": [
    "Now similar to simple neural network, let's visualize our output"
   ]
  },
  {
   "cell_type": "code",
   "execution_count": 24,
   "metadata": {},
   "outputs": [
    {
     "name": "stdout",
     "output_type": "stream",
     "text": [
      "[[  3.79878280e-26   3.14354594e-15   8.54272747e-23 ...,   4.35878536e-25\n",
      "    1.53267675e-18   2.92018637e-23]\n",
      " [  9.97246981e-01   3.10181969e-09   1.85770521e-04 ...,   1.33552848e-11\n",
      "    2.55803694e-03   8.31433408e-06]\n",
      " [  1.23016426e-26   2.29243301e-13   1.68882726e-19 ...,   7.46297815e-11\n",
      "    4.54440091e-17   1.00000000e+00]\n",
      " ..., \n",
      " [  2.06033189e-13   3.98183530e-18   1.70965577e-17 ...,   5.04880466e-31\n",
      "    9.87701911e-15   5.21961091e-17]\n",
      " [  2.33371868e-20   5.88546399e-19   9.09206476e-21 ...,   1.17395933e-36\n",
      "    2.96651654e-20   2.48574721e-20]\n",
      " [  1.14071171e-16   8.67119536e-24   1.00000000e+00 ...,   6.71201108e-18\n",
      "    5.28279948e-21   9.63692298e-23]]\n"
     ]
    }
   ],
   "source": [
    "# # Make Prediction\n",
    "pred = model.predict(test_x)\n",
    "print(pred)"
   ]
  },
  {
   "cell_type": "code",
   "execution_count": 25,
   "metadata": {
    "collapsed": true
   },
   "outputs": [],
   "source": [
    "# To stop potential randomness\n",
    "seed = 128\n",
    "rng = np.random.RandomState(seed)"
   ]
  },
  {
   "cell_type": "code",
   "execution_count": 26,
   "metadata": {},
   "outputs": [
    {
     "name": "stdout",
     "output_type": "stream",
     "text": [
      "Prediction is:  9\n"
     ]
    },
    {
     "data": {
      "image/png": "[encoded data removed]",
      "text/plain": [
       "<matplotlib.figure.Figure at 0x5935b668>"
      ]
     },
     "metadata": {},
     "output_type": "display_data"
    }
   ],
   "source": [
    "# get predictions\n",
    "img_name = rng.choice(test.filename)\n",
    "filepath = os.path.join(data_dir, 'Train', 'Images', 'test', img_name)\n",
    "\n",
    "img = imread(filepath, flatten=True)\n",
    "\n",
    "test_index = int(img_name.split('.')[0]) - 49000\n",
    "\n",
    "print( \"Prediction is: \", np.argmax(pred[test_index]))\n",
    "\n",
    "pylab.imshow(img, cmap='gray')\n",
    "pylab.axis('off')\n",
    "pylab.show()"
   ]
  },
  {
   "cell_type": "code",
   "execution_count": null,
   "metadata": {
    "collapsed": true
   },
   "outputs": [],
   "source": []
  },
  {
   "cell_type": "markdown",
   "metadata": {
    "collapsed": true
   },
   "source": [
    "## Exercise 2"
   ]
  },
  {
   "cell_type": "markdown",
   "metadata": {},
   "source": [
    "Play with CNN architecture. You can tune the following parameters\n",
    "* Number of Convolutional layers\n",
    "* number of Pooling layers\n",
    "* Size of kernels in Convolutional layer\n",
    "* Size of pooling operation in Pooling layer\n",
    "* Add Regularization layer in the network (Dropout)"
   ]
  },
  {
   "cell_type": "code",
   "execution_count": 33,
   "metadata": {
    "collapsed": true
   },
   "outputs": [],
   "source": [
    "tf.reset_default_graph()"
   ]
  },
  {
   "cell_type": "code",
   "execution_count": 34,
   "metadata": {
    "collapsed": true
   },
   "outputs": [],
   "source": [
    "# Building the model architecture\n",
    "# Input Layer\n",
    "model = input_data(shape=[None, 28, 28, 3])\n",
    "# First Convolution Layer\n",
    "model = conv_2d(model, 32, 5, activation='relu')\n",
    "# First Max Pooling\n",
    "model = max_pool_2d(model, 5)\n",
    "# second Convolution Layer\n",
    "model = conv_2d(model, 64, 5, activation = 'relu')\n",
    "# Second Max Pooling\n",
    "model = max_pool_2d(model, 5)\n",
    "# Fully Connected Layer\n",
    "model = fully_connected(model, 50, activation='relu')\n",
    "model = dropout(model, 0.9)\n",
    "model = fully_connected(model, 10, activation='softmax')\n",
    "model = regression(model, optimizer='adam', loss='categorical_crossentropy',learning_rate=0.001)"
   ]
  },
  {
   "cell_type": "code",
   "execution_count": 35,
   "metadata": {},
   "outputs": [
    {
     "name": "stdout",
     "output_type": "stream",
     "text": [
      "Training Step: 26799  | total loss: \u001b[1m\u001b[32m0.02915\u001b[0m\u001b[0m | time: 23.366s\n",
      "| Adam | epoch: 100 | loss: 0.02915 - acc: 0.9954 -- iter: 34176/34300\n",
      "Training Step: 26800  | total loss: \u001b[1m\u001b[32m0.02624\u001b[0m\u001b[0m | time: 23.455s\n",
      "| Adam | epoch: 100 | loss: 0.02624 - acc: 0.9958 -- iter: 34300/34300\n",
      "--\n"
     ]
    }
   ],
   "source": [
    "model = tflearn.DNN(model)\n",
    "model.fit(train_x, train_y, n_epoch=100, batch_size=128, show_metric=True)"
   ]
  },
  {
   "cell_type": "code",
   "execution_count": 36,
   "metadata": {},
   "outputs": [
    {
     "data": {
      "text/plain": [
       "[0.98496598621614939]"
      ]
     },
     "execution_count": 36,
     "metadata": {},
     "output_type": "execute_result"
    }
   ],
   "source": [
    "model.evaluate(val_x, val_y)"
   ]
  },
  {
   "cell_type": "code",
   "execution_count": 37,
   "metadata": {
    "collapsed": true
   },
   "outputs": [],
   "source": [
    "pred = model.predict(test_x)"
   ]
  },
  {
   "cell_type": "code",
   "execution_count": 38,
   "metadata": {},
   "outputs": [
    {
     "name": "stdout",
     "output_type": "stream",
     "text": [
      "Prediction is:  2\n"
     ]
    },
    {
     "data": {
      "image/png": "[encoded data removed]",
      "text/plain": [
       "<matplotlib.figure.Figure at 0x59c176a0>"
      ]
     },
     "metadata": {},
     "output_type": "display_data"
    }
   ],
   "source": [
    "# get predictions\n",
    "img_name = rng.choice(test.filename)\n",
    "filepath = os.path.join(data_dir, 'Train', 'Images', 'test', img_name)\n",
    "\n",
    "img = imread(filepath, flatten=True)\n",
    "\n",
    "test_index = int(img_name.split('.')[0]) - 49000\n",
    "\n",
    "print( \"Prediction is: \", np.argmax(pred[test_index]))\n",
    "\n",
    "pylab.imshow(img, cmap='gray')\n",
    "pylab.axis('off')\n",
    "pylab.show()"
   ]
  },
  {
   "cell_type": "markdown",
   "metadata": {},
   "source": [
    "## END"
   ]
  },
  {
   "cell_type": "code",
   "execution_count": null,
   "metadata": {
    "collapsed": true
   },
   "outputs": [],
   "source": []
  }
 ],
 "metadata": {
  "kernelspec": {
   "display_name": "Python 3",
   "language": "python",
   "name": "python3"
  },
  "language_info": {
   "codemirror_mode": {
    "name": "ipython",
    "version": 3
   },
   "file_extension": ".py",
   "mimetype": "text/x-python",
   "name": "python",
   "nbconvert_exporter": "python",
   "pygments_lexer": "ipython3",
   "version": "3.6.3"
  }
 },
 "nbformat": 4,
 "nbformat_minor": 2
}
