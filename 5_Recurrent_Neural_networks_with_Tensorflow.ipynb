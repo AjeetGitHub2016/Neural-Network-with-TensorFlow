{
 "cells": [
  {
   "cell_type": "markdown",
   "metadata": {},
   "source": [
    "# Solving Natural Language Processing Problems using RNN"
   ]
  },
  {
   "cell_type": "code",
   "execution_count": 1,
   "metadata": {
    "collapsed": true
   },
   "outputs": [],
   "source": [
    "# import modules\n",
    "import tflearn\n",
    "import numpy as np\n",
    "import tensorflow as tf\n",
    "\n",
    "tf.reset_default_graph()"
   ]
  },
  {
   "cell_type": "code",
   "execution_count": 2,
   "metadata": {},
   "outputs": [],
   "source": [
    "# load dataset\n",
    "(train_x, train_y), (test_x, test_y), _ = tflearn.datasets.imdb.load_data(n_words=5000, path='/imdb/imdb.pkl')"
   ]
  },
  {
   "cell_type": "code",
   "execution_count": 3,
   "metadata": {},
   "outputs": [
    {
     "data": {
      "text/plain": [
       "([17, 25, 10, 406, 26, 14, 56, 61, 62, 323, 4], 0)"
      ]
     },
     "execution_count": 3,
     "metadata": {},
     "output_type": "execute_result"
    }
   ],
   "source": [
    "# how our dataset looks like\n",
    "train_x[0], train_y[0]"
   ]
  },
  {
   "cell_type": "code",
   "execution_count": 4,
   "metadata": {
    "collapsed": true
   },
   "outputs": [],
   "source": [
    "# data preprocesing\n",
    "# sequence padding\n",
    "train_x = tflearn.data_utils.pad_sequences(train_x, maxlen=500, value=0.)\n",
    "test_x = tflearn.data_utils.pad_sequences(test_x, maxlen=500)\n",
    "\n",
    "# One hot encode labels\n",
    "train_y = tflearn.data_utils.to_categorical(train_y, nb_classes=2)\n",
    "test_y = tflearn.data_utils.to_categorical(test_y, nb_classes=2)"
   ]
  },
  {
   "cell_type": "code",
   "execution_count": 5,
   "metadata": {
    "collapsed": true
   },
   "outputs": [],
   "source": [
    "# define model\n",
    "model = tflearn.input_data([None, 500])\n",
    "model = tflearn.embedding(model, input_dim=5000, output_dim=128)\n",
    "model = tflearn.simple_rnn(model, 128, dropout=0.5)\n",
    "model = tflearn.fully_connected(model, 2, activation='softmax')\n",
    "model = tflearn.regression(model, optimizer='adam', learning_rate=0.01, loss='categorical_crossentropy')"
   ]
  },
  {
   "cell_type": "code",
   "execution_count": null,
   "metadata": {
    "collapsed": true
   },
   "outputs": [],
   "source": [
    "# build model\n",
    "model = tflearn.DNN(model)"
   ]
  },
  {
   "cell_type": "code",
   "execution_count": null,
   "metadata": {},
   "outputs": [
    {
     "name": "stdout",
     "output_type": "stream",
     "text": [
      "Training Step: 14  | total loss: \u001b[1m\u001b[32m0.70586\u001b[0m\u001b[0m | time: 93.710s\n",
      "\u001b[2K\r",
      "| Adam | epoch: 001 | loss: 0.70586 -- iter: 14000/22500\n"
     ]
    }
   ],
   "source": [
    "# train model\n",
    "model.fit(train_x, train_y, n_epoch=1, batch_size=1000)"
   ]
  },
  {
   "cell_type": "code",
   "execution_count": null,
   "metadata": {
    "collapsed": true
   },
   "outputs": [],
   "source": [
    "# get scores\n",
    "scores = model.evaluate(test_x, test_y)"
   ]
  },
  {
   "cell_type": "code",
   "execution_count": null,
   "metadata": {},
   "outputs": [],
   "source": [
    "scores"
   ]
  },
  {
   "cell_type": "code",
   "execution_count": null,
   "metadata": {},
   "outputs": [],
   "source": [
    "# # check predictions\n",
    "# model.predict(train_x)"
   ]
  },
  {
   "cell_type": "code",
   "execution_count": null,
   "metadata": {
    "collapsed": true
   },
   "outputs": [],
   "source": []
  },
  {
   "cell_type": "markdown",
   "metadata": {},
   "source": [
    "## Exercise 1:"
   ]
  },
  {
   "cell_type": "markdown",
   "metadata": {},
   "source": [
    "Tune parameters of RNN\n",
    "* Number of layers\n",
    "* Numbere of neurons\n",
    "* Architectures of RNN"
   ]
  },
  {
   "cell_type": "code",
   "execution_count": null,
   "metadata": {
    "collapsed": true
   },
   "outputs": [],
   "source": []
  },
  {
   "cell_type": "markdown",
   "metadata": {},
   "source": [
    "## Exercise 2:"
   ]
  },
  {
   "cell_type": "markdown",
   "metadata": {},
   "source": [
    "Build RNN for Linguipedia"
   ]
  },
  {
   "cell_type": "code",
   "execution_count": null,
   "metadata": {
    "collapsed": true
   },
   "outputs": [],
   "source": []
  }
 ],
 "metadata": {
  "kernelspec": {
   "display_name": "Python 3",
   "language": "python",
   "name": "python3"
  },
  "language_info": {
   "codemirror_mode": {
    "name": "ipython",
    "version": 3
   },
   "file_extension": ".py",
   "mimetype": "text/x-python",
   "name": "python",
   "nbconvert_exporter": "python",
   "pygments_lexer": "ipython3",
   "version": "3.5.3"
  }
 },
 "nbformat": 4,
 "nbformat_minor": 2
}
