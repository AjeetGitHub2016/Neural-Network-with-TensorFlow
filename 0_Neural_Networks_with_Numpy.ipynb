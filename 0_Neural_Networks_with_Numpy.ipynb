{
 "cells": [
  {
   "cell_type": "markdown",
   "metadata": {},
   "source": [
    "# Simple Neural Network in Numpy"
   ]
  },
  {
   "cell_type": "code",
   "execution_count": 1,
   "metadata": {
    "collapsed": true
   },
   "outputs": [],
   "source": [
    "# import modules\n",
    "import numpy as np"
   ]
  },
  {
   "cell_type": "code",
   "execution_count": 2,
   "metadata": {
    "collapsed": true
   },
   "outputs": [],
   "source": [
    "# helper function\n",
    "def sigmoid (x):\n",
    "    return 1/(1 + np.exp(-x))\n",
    "\n",
    "def derivatives_sigmoid(x):\n",
    "    return x * (1 - x)"
   ]
  },
  {
   "cell_type": "code",
   "execution_count": 3,
   "metadata": {
    "collapsed": true
   },
   "outputs": [],
   "source": [
    "#Input array\n",
    "X=np.array([[1,0,1,0],[1,0,1,1],[0,1,0,1]])\n",
    "\n",
    "#Output\n",
    "y=np.array([[1],[1],[0]])"
   ]
  },
  {
   "cell_type": "code",
   "execution_count": 4,
   "metadata": {
    "collapsed": true
   },
   "outputs": [],
   "source": [
    "#Variable initialization\n",
    "inputlayer_neurons = 4 #number of features in data set\n",
    "hiddenlayer_neurons = 3 #number of hidden layers neurons\n",
    "output_neurons = 1 #number of neurons at output layer\n",
    "\n",
    "#weight and bias initialization\n",
    "wh=np.random.uniform(size=(inputlayer_neurons,hiddenlayer_neurons))\n",
    "bh=np.random.uniform(size=(1,hiddenlayer_neurons))\n",
    "\n",
    "wout=np.random.uniform(size=(hiddenlayer_neurons,output_neurons))\n",
    "bout=np.random.uniform(size=(1,output_neurons))"
   ]
  },
  {
   "cell_type": "code",
   "execution_count": 5,
   "metadata": {},
   "outputs": [
    {
     "name": "stdout",
     "output_type": "stream",
     "text": [
      "Initial weights \n",
      " [[ 0.7311026   0.98071962  0.08096642]\n",
      " [ 0.71554855  0.89738158  0.04193665]\n",
      " [ 0.83022163  0.15372335  0.59566082]\n",
      " [ 0.58744679  0.73600899  0.48125201]] \n",
      "\n",
      " Initial biases [[ 0.14637286  0.11912364  0.4527222 ]]\n"
     ]
    }
   ],
   "source": [
    "print('Initial weights','\\n',  wh, '\\n\\n', 'Initial biases', bh)"
   ]
  },
  {
   "cell_type": "code",
   "execution_count": 6,
   "metadata": {
    "collapsed": true
   },
   "outputs": [],
   "source": [
    "## Forward Propogation\n",
    "\n",
    "# linear transformation\n",
    "hidden_layer_input1=np.dot(X,wh)\n",
    "hidden_layer_input=hidden_layer_input1 + bh\n",
    "# non-linear transformation\n",
    "hiddenlayer_activations = sigmoid(hidden_layer_input)\n",
    "\n",
    "# linear transformation\n",
    "output_layer_input1=np.dot(hiddenlayer_activations,wout)\n",
    "output_layer_input= output_layer_input1+ bout\n",
    "# non-linear transformation\n",
    "output = sigmoid(output_layer_input)"
   ]
  },
  {
   "cell_type": "code",
   "execution_count": 7,
   "metadata": {},
   "outputs": [
    {
     "name": "stdout",
     "output_type": "stream",
     "text": [
      "Weights after forward propogation \n",
      " [[ 0.7311026   0.98071962  0.08096642]\n",
      " [ 0.71554855  0.89738158  0.04193665]\n",
      " [ 0.83022163  0.15372335  0.59566082]\n",
      " [ 0.58744679  0.73600899  0.48125201]] \n",
      "\n",
      " Biases after forward propogation [[ 0.14637286  0.11912364  0.4527222 ]]\n"
     ]
    }
   ],
   "source": [
    "print('Weights after forward propogation','\\n',  wh, '\\n\\n', 'Biases after forward propogation', bh)"
   ]
  },
  {
   "cell_type": "code",
   "execution_count": 8,
   "metadata": {},
   "outputs": [],
   "source": [
    "## Backpropagation\n",
    "\n",
    "# error at output\n",
    "E = y - output\n",
    "\n",
    "slope_output_layer = derivatives_sigmoid(output)\n",
    "slope_hidden_layer = derivatives_sigmoid(hiddenlayer_activations)\n",
    "d_output = E * slope_output_layer\n",
    "\n",
    "# error at hidden layer\n",
    "Error_at_hidden_layer = d_output.dot(wout.T)\n",
    "d_hiddenlayer = Error_at_hidden_layer * slope_hidden_layer\n",
    "\n",
    "# weight update at output layer\n",
    "wout += hiddenlayer_activations.T.dot(d_output) *0.1\n",
    "bout += np.sum(d_output, axis=0,keepdims=True) *0.1\n",
    "\n",
    "# weight update at hidden layer\n",
    "wh += X.T.dot(d_hiddenlayer) *0.1\n",
    "bh += np.sum(d_hiddenlayer, axis=0,keepdims=True) *0.1"
   ]
  },
  {
   "cell_type": "code",
   "execution_count": 9,
   "metadata": {},
   "outputs": [
    {
     "name": "stdout",
     "output_type": "stream",
     "text": [
      "Updated weights \n",
      " [[ 0.7311539   0.98100047  0.08126635]\n",
      " [ 0.71526267  0.89640536  0.04050067]\n",
      " [ 0.83027293  0.1540042   0.59596075]\n",
      " [ 0.58717784  0.73512269  0.4799259 ]] \n",
      "\n",
      " Updated biases [[ 0.14613828  0.11842827  0.45158615]]\n"
     ]
    }
   ],
   "source": [
    "print('Updated weights','\\n',  wh, '\\n\\n', 'Updated biases', bh)"
   ]
  },
  {
   "cell_type": "code",
   "execution_count": 10,
   "metadata": {},
   "outputs": [
    {
     "name": "stdout",
     "output_type": "stream",
     "text": [
      "Actual [[1]\n",
      " [1]\n",
      " [0]] \n",
      "\n",
      " Predictions [[ 0.87746235]\n",
      " [ 0.89351924]\n",
      " [ 0.88086316]] \n",
      "\n",
      " Error -0.651844754228\n"
     ]
    }
   ],
   "source": [
    "print('Actual', y, '\\n\\n', 'Predictions', output, '\\n\\n', 'Error', E.sum())"
   ]
  },
  {
   "cell_type": "code",
   "execution_count": 11,
   "metadata": {
    "collapsed": true
   },
   "outputs": [],
   "source": [
    "# after 5000 iterations\n",
    "for i in range(5000):\n",
    "    #Forward Propogation\n",
    "    hidden_layer_input1=np.dot(X,wh)\n",
    "    hidden_layer_input=hidden_layer_input1 + bh\n",
    "    hiddenlayer_activations = sigmoid(hidden_layer_input)\n",
    "    output_layer_input1=np.dot(hiddenlayer_activations,wout)\n",
    "    output_layer_input= output_layer_input1+ bout\n",
    "    output = sigmoid(output_layer_input)\n",
    "\n",
    "    #Backpropagation\n",
    "    E = y-output\n",
    "    slope_output_layer = derivatives_sigmoid(output)\n",
    "    slope_hidden_layer = derivatives_sigmoid(hiddenlayer_activations)\n",
    "    d_output = E * slope_output_layer\n",
    "    Error_at_hidden_layer = d_output.dot(wout.T)\n",
    "    d_hiddenlayer = Error_at_hidden_layer * slope_hidden_layer\n",
    "    wout += hiddenlayer_activations.T.dot(d_output) * 0.1\n",
    "    bout += np.sum(d_output, axis=0,keepdims=True) * 0.1\n",
    "    wh += X.T.dot(d_hiddenlayer) * 0.1\n",
    "    bh += np.sum(d_hiddenlayer, axis=0,keepdims=True) * 0.1"
   ]
  },
  {
   "cell_type": "code",
   "execution_count": 12,
   "metadata": {},
   "outputs": [
    {
     "name": "stdout",
     "output_type": "stream",
     "text": [
      "Updated weights \n",
      " [[-0.07297633  1.51520053  1.85924922]\n",
      " [ 1.40964956 -0.19864931 -2.42763612]\n",
      " [ 0.0261427   0.68820426  2.37394362]\n",
      " [ 0.86271232 -0.09176732 -0.85381179]] \n",
      "\n",
      " Updated biases [[ 0.03639495 -0.44242634 -0.23856778]]\n"
     ]
    }
   ],
   "source": [
    "print('Updated weights','\\n',  wh, '\\n\\n', 'Updated biases', bh)"
   ]
  },
  {
   "cell_type": "code",
   "execution_count": 13,
   "metadata": {},
   "outputs": [
    {
     "name": "stdout",
     "output_type": "stream",
     "text": [
      "Actual [[1]\n",
      " [1]\n",
      " [0]] \n",
      "\n",
      " Predictions [[ 0.97887545]\n",
      " [ 0.96472972]\n",
      " [ 0.04860712]] \n",
      "\n",
      " Error 0.00778771257289\n"
     ]
    }
   ],
   "source": [
    "print('Actual', y, '\\n\\n', 'Predictions', output, '\\n\\n', 'Error', E.sum())"
   ]
  },
  {
   "cell_type": "code",
   "execution_count": null,
   "metadata": {
    "collapsed": true
   },
   "outputs": [],
   "source": []
  }
 ],
 "metadata": {
  "kernelspec": {
   "display_name": "Python 3",
   "language": "python",
   "name": "python3"
  },
  "language_info": {
   "codemirror_mode": {
    "name": "ipython",
    "version": 3
   },
   "file_extension": ".py",
   "mimetype": "text/x-python",
   "name": "python",
   "nbconvert_exporter": "python",
   "pygments_lexer": "ipython3",
   "version": "3.6.3"
  }
 },
 "nbformat": 4,
 "nbformat_minor": 2
}
